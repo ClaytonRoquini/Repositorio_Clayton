{
 "cells": [
  {
   "cell_type": "markdown",
   "metadata": {},
   "source": [
    "# Automação de Sistemas e Processos com Python\n",
    "\n",
    "### Desafio:\n",
    "\n",
    "Todos os dias, o nosso sistema atualiza as vendas do dia anterior.\n",
    "O seu trabalho diário, como analista, é enviar um e-mail para a diretoria, assim que começar a trabalhar, com o faturamento e a quantidade de produtos vendidos no dia anterior\n",
    "\n",
    "E-mail da diretoria: seugmail+diretoria@gmail.com<br>\n",
    "Local onde o sistema disponibiliza as vendas do dia anterior: https://drive.google.com/drive/folders/149xknr9JvrlEnhNWO49zPcw0PW5icxga?usp=sharing\n",
    "\n",
    "Para resolver isso, vamos usar o pyautogui, uma biblioteca de automação de comandos do mouse e do teclado"
   ]
  },
  {
   "cell_type": "code",
   "execution_count": 125,
   "metadata": {},
   "outputs": [],
   "source": [
    "import pyautogui\n",
    "import pyperclip\n",
    "import time\n",
    "import sys\n",
    "\n",
    "pyautogui.PAUSE = 1\n",
    "\n",
    "#abrir navegador\n",
    "pyautogui.click(x=24, y=749)\n",
    "pyautogui.write(\"chrome\")\n",
    "pyautogui.press('enter')\n",
    "pyautogui.screenshot(r\"C:\\Users\\teste\\Downloads\\teste.png\")\n",
    "    \n",
    "\n",
    "#Passo 1 - Entrar no sistema(Entrar no link https://drive.google.com/drive/folders/149xknr9JvrlEnhNWO49zPcw0PW5icxga)\n",
    "#pyautogui.hotkey('ctrl','t')\n",
    "link = 'https://drive.google.com/drive/folders/149xknr9JvrlEnhNWO49zPcw0PW5icxga?usp=sharing'\n",
    "pyperclip.copy(link)\n",
    "pyautogui.hotkey('ctrl','v')\n",
    "pyautogui.press('enter')\n",
    "pyautogui.screenshot()\n",
    "\n",
    "#Passo 2 - Navegar no sistema(entrar na pasta explorer)\n",
    "time.sleep(8)\n",
    "pyautogui.click(x=349, y=371,clicks=3)\n",
    "pyautogui.screenshot()\n",
    "\n",
    "\n",
    "\n",
    "#Passo 3 - baixar o arquivo vendas\n",
    "\n",
    "time.sleep(4)\n",
    "pyautogui.click(x=340, y=555)\n",
    "time.sleep(4)\n",
    "pyautogui.click(x=1160, y=186)\n",
    "time.sleep(4)\n",
    "pyautogui.click(x=923, y=594)\n",
    "\n",
    "\n",
    "\n"
   ]
  },
  {
   "cell_type": "markdown",
   "metadata": {},
   "source": [
    "https://drive.google.com/drive/folders/149xknr9JvrlEnhNWO49zPcw0PW5icxga?usp=sharing\n",
    "https://drive.google.com/drive/folders/149xknr9JvrlEnhNWO49zPcw0PW5icxga?usp=sharing\n",
    "https://drive.google.com/drive/folders/149xknr9JvrlEnhNWO49zPcw0PW5icxga?usp=sharing\n",
    "### Vamos agora ler o arquivo baixado para pegar os indicadores\n",
    "\n",
    "- Faturamento\n",
    "- Quantidade de Produtos"
   ]
  },
  {
   "cell_type": "code",
   "execution_count": 126,
   "metadata": {},
   "outputs": [
    {
     "data": {
      "text/plain": [
       "2917311"
      ]
     },
     "metadata": {},
     "output_type": "display_data"
    }
   ],
   "source": [
    "#Passo 4 - Calcular Faturamento e quantidade de produtos vendidos\n",
    "import pandas as pd\n",
    "\n",
    "tabela = pd.read_excel(r\"C:\\Users\\teste\\Downloads\\Vendas - Dez.xlsx\")\n",
    "faturamento = tabela[\"Valor Final\"].sum()\n",
    "quantidade= tabela[\"Quantidade\"].sum()\n",
    "\n",
    "display(faturamento)"
   ]
  },
  {
   "cell_type": "markdown",
   "metadata": {},
   "source": [
    "### Vamos agora enviar um e-mail pelo gmail"
   ]
  },
  {
   "cell_type": "code",
   "execution_count": 127,
   "metadata": {},
   "outputs": [],
   "source": [
    "#Passo 5 - Enviar email para diretoria\n",
    "\n",
    "\n",
    "pyautogui.hotkey('ctrl','t')\n",
    "link = 'https://outlook.live.com/mail/0/inbox'\n",
    "pyperclip.copy(link)\n",
    "pyautogui.hotkey('ctrl','v')\n",
    "pyautogui.press('enter')\n",
    "\n",
    "#Clicar em Escrever\n",
    "time.sleep(8)\n",
    "pyautogui.click(x=147, y=168)\n",
    "\n",
    "#escrever pra quem vai enviar\n",
    "time.sleep(8)\n",
    "pyautogui.write(\"testepython555@hotmail.com\")\n",
    "pyautogui.press(\"tab\")\n",
    "\n",
    "\n",
    "#escrever assunto\n",
    "pyautogui.click(x=635, y=289)\n",
    "assunto = \"Relatório Vendas\"\n",
    "pyperclip.copy(assunto)\n",
    "pyautogui.hotkey('ctrl','v')\n",
    "pyautogui.press(\"tab\")\n",
    "\n",
    "#escrever corpo email\n",
    "time.sleep(1)\n",
    "texto = f\"\"\"\n",
    "Prezados, Bom dia\n",
    "\n",
    "O faturamento foi de R${faturamento:,.2f}\n",
    "A quantidade foi de {quantidade:,}\n",
    "\n",
    "Abs\"\"\"\n",
    "pyautogui.write(texto)\n",
    "pyautogui.screenshot\n",
    "\n",
    "\n",
    "#Enviar emaisl\n",
    "pyautogui.hotkey('ctrl','enter')\n"
   ]
  },
  {
   "cell_type": "raw",
   "metadata": {},
   "source": []
  },
  {
   "cell_type": "markdown",
   "metadata": {},
   "source": [
    "#### Use esse código para descobrir qual a posição de um item que queira clicar\n",
    "\n",
    "- Lembre-se: a posição na sua tela é diferente da posição na minha tela"
   ]
  },
  {
   "cell_type": "code",
   "execution_count": 128,
   "metadata": {},
   "outputs": [
    {
     "data": {
      "text/plain": [
       "Point(x=410, y=225)"
      ]
     },
     "execution_count": 128,
     "metadata": {},
     "output_type": "execute_result"
    }
   ],
   "source": [
    "import time\n",
    "time.sleep(5)\n",
    "pyautogui.position()"
   ]
  },
  {
   "cell_type": "code",
   "execution_count": null,
   "metadata": {},
   "outputs": [],
   "source": []
  },
  {
   "cell_type": "code",
   "execution_count": null,
   "metadata": {},
   "outputs": [],
   "source": []
  }
 ],
 "metadata": {
  "kernelspec": {
   "display_name": "Python 3",
   "language": "python",
   "name": "python3"
  },
  "language_info": {
   "codemirror_mode": {
    "name": "ipython",
    "version": 3
   },
   "file_extension": ".py",
   "mimetype": "text/x-python",
   "name": "python",
   "nbconvert_exporter": "python",
   "pygments_lexer": "ipython3",
   "version": "3.8.8"
  }
 },
 "nbformat": 4,
 "nbformat_minor": 4
}
